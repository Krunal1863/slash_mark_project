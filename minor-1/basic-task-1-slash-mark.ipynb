{
 "cells": [
  {
   "cell_type": "markdown",
   "metadata": {
    "_cell_guid": "b1076dfc-b9ad-4769-8c92-a6c4dae69d19",
    "_uuid": "8f2839f25d086af736a60e9eeb907d3b93b6e0e5"
   },
   "source": [
    "BASIC Project :\n",
    "\n",
    "Task 1 Simple Task List :\n",
    "\n",
    "Description : Develop a Python task management app for adding, removing, listing, prioritizing, \n",
    "    and receiving task recommendations based on task descriptions."
   ]
  },
  {
   "cell_type": "markdown",
   "metadata": {
    "execution": {
     "iopub.execute_input": "2025-01-21T05:38:05.907334Z",
     "iopub.status.busy": "2025-01-21T05:38:05.906934Z",
     "iopub.status.idle": "2025-01-21T05:38:05.912861Z",
     "shell.execute_reply": "2025-01-21T05:38:05.911594Z",
     "shell.execute_reply.started": "2025-01-21T05:38:05.907305Z"
    }
   },
   "source": [
    "# we need to make 4 things in this project \n",
    "    1. ADDING\n",
    "    2. REMOVING \n",
    "    3. LISTING\n",
    "    4. RECOMANDATION OF TASK\n",
    "    5. PRIORITIZING\n",
    "   \n"
   ]
  },
  {
   "cell_type": "markdown",
   "metadata": {
    "execution": {
     "iopub.execute_input": "2025-01-21T05:40:01.704682Z",
     "iopub.status.busy": "2025-01-21T05:40:01.704242Z",
     "iopub.status.idle": "2025-01-21T05:40:01.711818Z",
     "shell.execute_reply": "2025-01-21T05:40:01.710228Z",
     "shell.execute_reply.started": "2025-01-21T05:40:01.704652Z"
    }
   },
   "source": [
    "STEP 1 : IMPORT IMPORTANT LIBRARY \n"
   ]
  },
  {
   "cell_type": "code",
   "execution_count": 19,
   "metadata": {
    "execution": {
     "iopub.execute_input": "2025-01-21T08:38:11.461438Z",
     "iopub.status.busy": "2025-01-21T08:38:11.460980Z",
     "iopub.status.idle": "2025-01-21T08:38:11.466850Z",
     "shell.execute_reply": "2025-01-21T08:38:11.465627Z",
     "shell.execute_reply.started": "2025-01-21T08:38:11.461411Z"
    }
   },
   "outputs": [],
   "source": [
    "import pandas as pd\n",
    "from sklearn.feature_extraction.text import CountVectorizer\n",
    "from sklearn.naive_bayes import MultinomialNB\n",
    "from sklearn.pipeline import make_pipeline\n",
    "import random"
   ]
  },
  {
   "cell_type": "markdown",
   "metadata": {},
   "source": [
    "STEP 2 :  MAKE TASKS LIST AS EMPTY "
   ]
  },
  {
   "cell_type": "code",
   "execution_count": 20,
   "metadata": {
    "execution": {
     "iopub.execute_input": "2025-01-21T08:38:11.980073Z",
     "iopub.status.busy": "2025-01-21T08:38:11.979664Z",
     "iopub.status.idle": "2025-01-21T08:38:11.987055Z",
     "shell.execute_reply": "2025-01-21T08:38:11.985655Z",
     "shell.execute_reply.started": "2025-01-21T08:38:11.980046Z"
    }
   },
   "outputs": [],
   "source": [
    "tasks = pd.DataFrame(columns=['description', 'priority'])"
   ]
  },
  {
   "cell_type": "code",
   "execution_count": 21,
   "metadata": {
    "execution": {
     "iopub.execute_input": "2025-01-21T08:38:12.095254Z",
     "iopub.status.busy": "2025-01-21T08:38:12.094890Z",
     "iopub.status.idle": "2025-01-21T08:38:12.104420Z",
     "shell.execute_reply": "2025-01-21T08:38:12.103098Z",
     "shell.execute_reply.started": "2025-01-21T08:38:12.095230Z"
    }
   },
   "outputs": [
    {
     "data": {
      "text/html": [
       "<div>\n",
       "<style scoped>\n",
       "    .dataframe tbody tr th:only-of-type {\n",
       "        vertical-align: middle;\n",
       "    }\n",
       "\n",
       "    .dataframe tbody tr th {\n",
       "        vertical-align: top;\n",
       "    }\n",
       "\n",
       "    .dataframe thead th {\n",
       "        text-align: right;\n",
       "    }\n",
       "</style>\n",
       "<table border=\"1\" class=\"dataframe\">\n",
       "  <thead>\n",
       "    <tr style=\"text-align: right;\">\n",
       "      <th></th>\n",
       "      <th>description</th>\n",
       "      <th>priority</th>\n",
       "    </tr>\n",
       "  </thead>\n",
       "  <tbody>\n",
       "  </tbody>\n",
       "</table>\n",
       "</div>"
      ],
      "text/plain": [
       "Empty DataFrame\n",
       "Columns: [description, priority]\n",
       "Index: []"
      ]
     },
     "execution_count": 21,
     "metadata": {},
     "output_type": "execute_result"
    }
   ],
   "source": [
    "tasks"
   ]
  },
  {
   "cell_type": "markdown",
   "metadata": {},
   "source": [
    "Step 3 : Load Prexisting data"
   ]
  },
  {
   "cell_type": "code",
   "execution_count": 22,
   "metadata": {
    "execution": {
     "iopub.execute_input": "2025-01-21T08:38:12.495497Z",
     "iopub.status.busy": "2025-01-21T08:38:12.495123Z",
     "iopub.status.idle": "2025-01-21T08:38:12.516939Z",
     "shell.execute_reply": "2025-01-21T08:38:12.515733Z",
     "shell.execute_reply.started": "2025-01-21T08:38:12.495471Z"
    }
   },
   "outputs": [],
   "source": [
    "tasks = pd.read_csv ('/kaggle/input/tasks-dataset/tasks.csv')"
   ]
  },
  {
   "cell_type": "code",
   "execution_count": 23,
   "metadata": {
    "execution": {
     "iopub.execute_input": "2025-01-21T08:38:12.700323Z",
     "iopub.status.busy": "2025-01-21T08:38:12.699997Z",
     "iopub.status.idle": "2025-01-21T08:38:12.709977Z",
     "shell.execute_reply": "2025-01-21T08:38:12.708896Z",
     "shell.execute_reply.started": "2025-01-21T08:38:12.700300Z"
    }
   },
   "outputs": [
    {
     "data": {
      "text/html": [
       "<div>\n",
       "<style scoped>\n",
       "    .dataframe tbody tr th:only-of-type {\n",
       "        vertical-align: middle;\n",
       "    }\n",
       "\n",
       "    .dataframe tbody tr th {\n",
       "        vertical-align: top;\n",
       "    }\n",
       "\n",
       "    .dataframe thead th {\n",
       "        text-align: right;\n",
       "    }\n",
       "</style>\n",
       "<table border=\"1\" class=\"dataframe\">\n",
       "  <thead>\n",
       "    <tr style=\"text-align: right;\">\n",
       "      <th></th>\n",
       "      <th>description</th>\n",
       "      <th>priority</th>\n",
       "    </tr>\n",
       "  </thead>\n",
       "  <tbody>\n",
       "    <tr>\n",
       "      <th>0</th>\n",
       "      <td>Buy groceries</td>\n",
       "      <td>High</td>\n",
       "    </tr>\n",
       "    <tr>\n",
       "      <th>1</th>\n",
       "      <td>Complete project report</td>\n",
       "      <td>Medium</td>\n",
       "    </tr>\n",
       "    <tr>\n",
       "      <th>2</th>\n",
       "      <td>Schedule a meeting with the team</td>\n",
       "      <td>Low</td>\n",
       "    </tr>\n",
       "    <tr>\n",
       "      <th>3</th>\n",
       "      <td>Prepare presentation for the meeting</td>\n",
       "      <td>Medium</td>\n",
       "    </tr>\n",
       "    <tr>\n",
       "      <th>4</th>\n",
       "      <td>Pay the bills</td>\n",
       "      <td>High</td>\n",
       "    </tr>\n",
       "    <tr>\n",
       "      <th>5</th>\n",
       "      <td>Exercise</td>\n",
       "      <td>Low</td>\n",
       "    </tr>\n",
       "    <tr>\n",
       "      <th>6</th>\n",
       "      <td>hare you do farming</td>\n",
       "      <td>Medium</td>\n",
       "    </tr>\n",
       "    <tr>\n",
       "      <th>7</th>\n",
       "      <td>watering</td>\n",
       "      <td>Low</td>\n",
       "    </tr>\n",
       "    <tr>\n",
       "      <th>8</th>\n",
       "      <td>driving</td>\n",
       "      <td>Medium</td>\n",
       "    </tr>\n",
       "  </tbody>\n",
       "</table>\n",
       "</div>"
      ],
      "text/plain": [
       "                            description priority\n",
       "0                         Buy groceries     High\n",
       "1               Complete project report   Medium\n",
       "2      Schedule a meeting with the team      Low\n",
       "3  Prepare presentation for the meeting   Medium\n",
       "4                         Pay the bills     High\n",
       "5                              Exercise      Low\n",
       "6                   hare you do farming   Medium\n",
       "7                              watering      Low\n",
       "8                               driving  Medium "
      ]
     },
     "execution_count": 23,
     "metadata": {},
     "output_type": "execute_result"
    }
   ],
   "source": [
    "tasks"
   ]
  },
  {
   "cell_type": "markdown",
   "metadata": {
    "execution": {
     "iopub.execute_input": "2025-01-21T08:33:37.811580Z",
     "iopub.status.busy": "2025-01-21T08:33:37.811018Z",
     "iopub.status.idle": "2025-01-21T08:33:37.819112Z",
     "shell.execute_reply": "2025-01-21T08:33:37.817422Z",
     "shell.execute_reply.started": "2025-01-21T08:33:37.811548Z"
    }
   },
   "source": [
    "Step 4 : Make Model Wich run every time "
   ]
  },
  {
   "cell_type": "code",
   "execution_count": 24,
   "metadata": {
    "execution": {
     "iopub.execute_input": "2025-01-21T08:38:13.095702Z",
     "iopub.status.busy": "2025-01-21T08:38:13.095280Z",
     "iopub.status.idle": "2025-01-21T08:38:13.100078Z",
     "shell.execute_reply": "2025-01-21T08:38:13.098961Z",
     "shell.execute_reply.started": "2025-01-21T08:38:13.095666Z"
    }
   },
   "outputs": [],
   "source": [
    "# WE NEED ONE SAVE MATHOD WHICH load our new data in to old  data "
   ]
  },
  {
   "cell_type": "code",
   "execution_count": 25,
   "metadata": {
    "execution": {
     "iopub.execute_input": "2025-01-21T08:38:13.295360Z",
     "iopub.status.busy": "2025-01-21T08:38:13.295001Z",
     "iopub.status.idle": "2025-01-21T08:38:13.300157Z",
     "shell.execute_reply": "2025-01-21T08:38:13.298824Z",
     "shell.execute_reply.started": "2025-01-21T08:38:13.295336Z"
    }
   },
   "outputs": [],
   "source": [
    "def save_tasks():\n",
    "    tasks.to_csv('tasks.csv', index=False)"
   ]
  },
  {
   "cell_type": "code",
   "execution_count": 26,
   "metadata": {
    "execution": {
     "iopub.execute_input": "2025-01-21T08:38:13.540538Z",
     "iopub.status.busy": "2025-01-21T08:38:13.540153Z",
     "iopub.status.idle": "2025-01-21T08:38:13.546565Z",
     "shell.execute_reply": "2025-01-21T08:38:13.545365Z",
     "shell.execute_reply.started": "2025-01-21T08:38:13.540511Z"
    }
   },
   "outputs": [],
   "source": [
    "# Add task\n",
    "\n",
    "def add_task(description, priority):\n",
    "    global tasks \n",
    "    new_task = pd.DataFrame({'description': [description], 'priority': [priority]})\n",
    "    tasks = pd.concat([tasks, new_task], ignore_index=True)\n",
    "    print (new_task)\n",
    "    print (tasks)\n",
    "    save_tasks()"
   ]
  },
  {
   "cell_type": "code",
   "execution_count": 27,
   "metadata": {
    "execution": {
     "iopub.execute_input": "2025-01-21T08:38:13.850283Z",
     "iopub.status.busy": "2025-01-21T08:38:13.849909Z",
     "iopub.status.idle": "2025-01-21T08:38:13.855297Z",
     "shell.execute_reply": "2025-01-21T08:38:13.853799Z",
     "shell.execute_reply.started": "2025-01-21T08:38:13.850255Z"
    }
   },
   "outputs": [],
   "source": [
    "# REMOVE THE TASK \n",
    "def remove_task(description):\n",
    "    global tasks \n",
    "    tasks = tasks[tasks['description'] != description]\n",
    "    save_tasks"
   ]
  },
  {
   "cell_type": "code",
   "execution_count": 28,
   "metadata": {
    "execution": {
     "iopub.execute_input": "2025-01-21T08:38:14.470343Z",
     "iopub.status.busy": "2025-01-21T08:38:14.469944Z",
     "iopub.status.idle": "2025-01-21T08:38:14.475554Z",
     "shell.execute_reply": "2025-01-21T08:38:14.473981Z",
     "shell.execute_reply.started": "2025-01-21T08:38:14.470315Z"
    }
   },
   "outputs": [],
   "source": [
    "# list task\n",
    "\n",
    "def list_task():\n",
    "    print ('Task list')\n",
    "    print(tasks)"
   ]
  },
  {
   "cell_type": "code",
   "execution_count": 29,
   "metadata": {
    "execution": {
     "iopub.execute_input": "2025-01-21T08:38:15.140366Z",
     "iopub.status.busy": "2025-01-21T08:38:15.139964Z",
     "iopub.status.idle": "2025-01-21T08:38:15.145906Z",
     "shell.execute_reply": "2025-01-21T08:38:15.144425Z",
     "shell.execute_reply.started": "2025-01-21T08:38:15.140340Z"
    }
   },
   "outputs": [],
   "source": [
    "# recomandation mathod\n",
    "def reco():\n",
    "    for i in tasks:\n",
    "        t = tasks[tasks['priority'] == 'High']\n",
    "        print (t)\n",
    "        break"
   ]
  },
  {
   "cell_type": "code",
   "execution_count": 30,
   "metadata": {
    "execution": {
     "iopub.execute_input": "2025-01-21T08:38:15.540183Z",
     "iopub.status.busy": "2025-01-21T08:38:15.539786Z",
     "iopub.status.idle": "2025-01-21T08:38:15.546216Z",
     "shell.execute_reply": "2025-01-21T08:38:15.544667Z",
     "shell.execute_reply.started": "2025-01-21T08:38:15.540155Z"
    }
   },
   "outputs": [],
   "source": [
    "# sort mathod\n",
    "def prioritizing() :\n",
    "    \n",
    "    for i in tasks:\n",
    "        t = tasks[tasks['priority'] == 'High']\n",
    "        break\n",
    "\n",
    "    for i in tasks:\n",
    "        t1 = tasks[tasks['priority'] == 'Medium']\n",
    "        break\n",
    "\n",
    "    for i in tasks:\n",
    "        t2 = tasks[tasks['priority'] == 'Low']\n",
    "        break\n",
    "        \n",
    "    Pri_Task = pd.concat([t,t1,t2], ignore_index=True)\n",
    "    print(Pri_Task) "
   ]
  },
  {
   "cell_type": "code",
   "execution_count": 31,
   "metadata": {
    "execution": {
     "iopub.execute_input": "2025-01-21T08:38:15.971434Z",
     "iopub.status.busy": "2025-01-21T08:38:15.970976Z",
     "iopub.status.idle": "2025-01-21T08:38:55.018170Z",
     "shell.execute_reply": "2025-01-21T08:38:55.017085Z",
     "shell.execute_reply.started": "2025-01-21T08:38:15.971401Z"
    }
   },
   "outputs": [
    {
     "name": "stdout",
     "output_type": "stream",
     "text": [
      "\n",
      "Task Management App\n",
      "1. For adding task\n",
      "2. For removing Task\n",
      "3. For showing list\n",
      "4. Highly recommended\n",
      "5. Prioritized List by sorting\n",
      "6. Exit\n"
     ]
    },
    {
     "name": "stdin",
     "output_type": "stream",
     "text": [
      "Select an option:  1\n",
      "Enter task description:  worship\n",
      "Enter task priority (Low/Medium/High):  Medium\n"
     ]
    },
    {
     "name": "stdout",
     "output_type": "stream",
     "text": [
      "  description priority\n",
      "0     worship   Medium\n",
      "                            description priority\n",
      "0                         Buy groceries     High\n",
      "1               Complete project report   Medium\n",
      "2      Schedule a meeting with the team      Low\n",
      "3  Prepare presentation for the meeting   Medium\n",
      "4                         Pay the bills     High\n",
      "5                              Exercise      Low\n",
      "6                   hare you do farming   Medium\n",
      "7                              watering      Low\n",
      "8                               driving  Medium \n",
      "9                               worship   Medium\n",
      "Task added successfully....\n",
      "\n",
      "Task Management App\n",
      "1. For adding task\n",
      "2. For removing Task\n",
      "3. For showing list\n",
      "4. Highly recommended\n",
      "5. Prioritized List by sorting\n",
      "6. Exit\n"
     ]
    },
    {
     "name": "stdin",
     "output_type": "stream",
     "text": [
      "Select an option:  2\n",
      "Enter task description to remove:  hare you do farming\n"
     ]
    },
    {
     "name": "stdout",
     "output_type": "stream",
     "text": [
      "Task removed successfully......\n",
      "\n",
      "Task Management App\n",
      "1. For adding task\n",
      "2. For removing Task\n",
      "3. For showing list\n",
      "4. Highly recommended\n",
      "5. Prioritized List by sorting\n",
      "6. Exit\n"
     ]
    },
    {
     "name": "stdin",
     "output_type": "stream",
     "text": [
      "Select an option:  3\n"
     ]
    },
    {
     "name": "stdout",
     "output_type": "stream",
     "text": [
      "Task list\n",
      "                            description priority\n",
      "0                         Buy groceries     High\n",
      "1               Complete project report   Medium\n",
      "2      Schedule a meeting with the team      Low\n",
      "3  Prepare presentation for the meeting   Medium\n",
      "4                         Pay the bills     High\n",
      "5                              Exercise      Low\n",
      "7                              watering      Low\n",
      "8                               driving  Medium \n",
      "9                               worship   Medium\n",
      "\n",
      "Task Management App\n",
      "1. For adding task\n",
      "2. For removing Task\n",
      "3. For showing list\n",
      "4. Highly recommended\n",
      "5. Prioritized List by sorting\n",
      "6. Exit\n"
     ]
    },
    {
     "name": "stdin",
     "output_type": "stream",
     "text": [
      "Select an option:  4\n"
     ]
    },
    {
     "name": "stdout",
     "output_type": "stream",
     "text": [
      "     description priority\n",
      "0  Buy groceries     High\n",
      "4  Pay the bills     High\n",
      "\n",
      "Task Management App\n",
      "1. For adding task\n",
      "2. For removing Task\n",
      "3. For showing list\n",
      "4. Highly recommended\n",
      "5. Prioritized List by sorting\n",
      "6. Exit\n"
     ]
    },
    {
     "name": "stdin",
     "output_type": "stream",
     "text": [
      "Select an option:  5\n"
     ]
    },
    {
     "name": "stdout",
     "output_type": "stream",
     "text": [
      "                            description priority\n",
      "0                         Buy groceries     High\n",
      "1                         Pay the bills     High\n",
      "2               Complete project report   Medium\n",
      "3  Prepare presentation for the meeting   Medium\n",
      "4                               worship   Medium\n",
      "5      Schedule a meeting with the team      Low\n",
      "6                              Exercise      Low\n",
      "7                              watering      Low\n",
      "\n",
      "Task Management App\n",
      "1. For adding task\n",
      "2. For removing Task\n",
      "3. For showing list\n",
      "4. Highly recommended\n",
      "5. Prioritized List by sorting\n",
      "6. Exit\n"
     ]
    },
    {
     "name": "stdin",
     "output_type": "stream",
     "text": [
      "Select an option:  6\n"
     ]
    },
    {
     "name": "stdout",
     "output_type": "stream",
     "text": [
      "Exited\n"
     ]
    }
   ],
   "source": [
    "\n",
    "# Main method\n",
    "while True:\n",
    "    print(\"\\nTask Management App\")\n",
    "    print(\"1. For adding task\")\n",
    "    print(\"2. For removing Task\")\n",
    "    print(\"3. For showing list\")\n",
    "    print(\"4. Highly recommended\")\n",
    "    print(\"5. Prioritized List by sorting\")\n",
    "    print(\"6. Exit\")\n",
    "\n",
    "    choice = input(\"Select an option: \")\n",
    "\n",
    "    if choice == \"1\":\n",
    "        description = input(\"Enter task description: \")\n",
    "        priority = input(\"Enter task priority (Low/Medium/High): \").capitalize()\n",
    "        add_task(description, priority)\n",
    "        print(\"Task added successfully....\")\n",
    "\n",
    "    elif choice == \"2\":\n",
    "        description = input(\"Enter task description to remove: \")\n",
    "        remove_task(description)\n",
    "        print(\"Task removed successfully......\")\n",
    "\n",
    "    elif choice == \"3\":\n",
    "        list_task()\n",
    "        \n",
    "    elif choice == \"4\":\n",
    "        reco()\n",
    "        \n",
    "    elif choice == \"5\":\n",
    "          prioritizing()\n",
    "        \n",
    "    elif choice == \"6\":\n",
    "        print(\"Exited\")\n",
    "        break\n",
    "        \n",
    "    else:\n",
    "        print(\"Invalid option. Please select a valid option.\")\n"
   ]
  },
  {
   "cell_type": "code",
   "execution_count": null,
   "metadata": {},
   "outputs": [],
   "source": []
  },
  {
   "cell_type": "code",
   "execution_count": null,
   "metadata": {},
   "outputs": [],
   "source": []
  }
 ],
 "metadata": {
  "kaggle": {
   "accelerator": "none",
   "dataSources": [
    {
     "datasetId": 6518379,
     "sourceId": 10534927,
     "sourceType": "datasetVersion"
    }
   ],
   "dockerImageVersionId": 30839,
   "isGpuEnabled": false,
   "isInternetEnabled": false,
   "language": "python",
   "sourceType": "notebook"
  },
  "kernelspec": {
   "display_name": "Python 3 (ipykernel)",
   "language": "python",
   "name": "python3"
  },
  "language_info": {
   "codemirror_mode": {
    "name": "ipython",
    "version": 3
   },
   "file_extension": ".py",
   "mimetype": "text/x-python",
   "name": "python",
   "nbconvert_exporter": "python",
   "pygments_lexer": "ipython3",
   "version": "3.10.9"
  }
 },
 "nbformat": 4,
 "nbformat_minor": 4
}
