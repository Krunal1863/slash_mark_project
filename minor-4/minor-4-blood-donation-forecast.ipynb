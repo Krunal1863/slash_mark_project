{
 "cells": [
  {
   "cell_type": "markdown",
   "metadata": {},
   "source": [
    "# Perform Minor 4 about Blood Donation Forecast with using classification method ( Logistic Regression )"
   ]
  },
  {
   "cell_type": "markdown",
   "metadata": {},
   "source": [
    "  # step - 1 import libraries "
   ]
  },
  {
   "cell_type": "code",
   "execution_count": 6,
   "metadata": {},
   "outputs": [
    {
     "ename": "SyntaxError",
     "evalue": "invalid syntax (4112042333.py, line 1)",
     "output_type": "error",
     "traceback": [
      "\u001b[1;36m  Cell \u001b[1;32mIn[6], line 1\u001b[1;36m\u001b[0m\n\u001b[1;33m    step - 1 import libraries\u001b[0m\n\u001b[1;37m             ^\u001b[0m\n\u001b[1;31mSyntaxError\u001b[0m\u001b[1;31m:\u001b[0m invalid syntax\n"
     ]
    }
   ],
   "source": [
    " step - 1 import libraries "
   ]
  },
  {
   "cell_type": "code",
   "execution_count": 4,
   "metadata": {},
   "outputs": [],
   "source": [
    "import pandas as pd\n",
    "import numpy as np\n",
    "\n",
    "# visulization \n",
    "import matplotlib.pyplot as plt\n",
    "import seaborn as sns"
   ]
  },
  {
   "cell_type": "code",
   "execution_count": 5,
   "metadata": {},
   "outputs": [],
   "source": [
    "# Here we add libraries which are use in fute like model related or other..."
   ]
  },
  {
   "cell_type": "code",
   "execution_count": 32,
   "metadata": {},
   "outputs": [],
   "source": [
    "from sklearn.model_selection import train_test_split"
   ]
  },
  {
   "cell_type": "markdown",
   "metadata": {},
   "source": [
    "# step 2 - Load Datset "
   ]
  },
  {
   "cell_type": "code",
   "execution_count": 9,
   "metadata": {},
   "outputs": [],
   "source": [
    "raw_data = pd.read_csv(r'D:\\Github_slash_mark_project\\slash_mark_project\\minor-4\\dataset\\transfusion.data')"
   ]
  },
  {
   "cell_type": "code",
   "execution_count": 11,
   "metadata": {},
   "outputs": [
    {
     "data": {
      "text/html": [
       "<div>\n",
       "<style scoped>\n",
       "    .dataframe tbody tr th:only-of-type {\n",
       "        vertical-align: middle;\n",
       "    }\n",
       "\n",
       "    .dataframe tbody tr th {\n",
       "        vertical-align: top;\n",
       "    }\n",
       "\n",
       "    .dataframe thead th {\n",
       "        text-align: right;\n",
       "    }\n",
       "</style>\n",
       "<table border=\"1\" class=\"dataframe\">\n",
       "  <thead>\n",
       "    <tr style=\"text-align: right;\">\n",
       "      <th></th>\n",
       "      <th>Recency (months)</th>\n",
       "      <th>Frequency (times)</th>\n",
       "      <th>Monetary (c.c. blood)</th>\n",
       "      <th>Time (months)</th>\n",
       "      <th>whether he/she donated blood in March 2007</th>\n",
       "    </tr>\n",
       "  </thead>\n",
       "  <tbody>\n",
       "    <tr>\n",
       "      <th>0</th>\n",
       "      <td>2</td>\n",
       "      <td>50</td>\n",
       "      <td>12500</td>\n",
       "      <td>98</td>\n",
       "      <td>1</td>\n",
       "    </tr>\n",
       "    <tr>\n",
       "      <th>1</th>\n",
       "      <td>0</td>\n",
       "      <td>13</td>\n",
       "      <td>3250</td>\n",
       "      <td>28</td>\n",
       "      <td>1</td>\n",
       "    </tr>\n",
       "    <tr>\n",
       "      <th>2</th>\n",
       "      <td>1</td>\n",
       "      <td>16</td>\n",
       "      <td>4000</td>\n",
       "      <td>35</td>\n",
       "      <td>1</td>\n",
       "    </tr>\n",
       "    <tr>\n",
       "      <th>3</th>\n",
       "      <td>2</td>\n",
       "      <td>20</td>\n",
       "      <td>5000</td>\n",
       "      <td>45</td>\n",
       "      <td>1</td>\n",
       "    </tr>\n",
       "    <tr>\n",
       "      <th>4</th>\n",
       "      <td>1</td>\n",
       "      <td>24</td>\n",
       "      <td>6000</td>\n",
       "      <td>77</td>\n",
       "      <td>0</td>\n",
       "    </tr>\n",
       "  </tbody>\n",
       "</table>\n",
       "</div>"
      ],
      "text/plain": [
       "   Recency (months)  Frequency (times)  Monetary (c.c. blood)  Time (months)  \\\n",
       "0                 2                 50                  12500             98   \n",
       "1                 0                 13                   3250             28   \n",
       "2                 1                 16                   4000             35   \n",
       "3                 2                 20                   5000             45   \n",
       "4                 1                 24                   6000             77   \n",
       "\n",
       "   whether he/she donated blood in March 2007  \n",
       "0                                           1  \n",
       "1                                           1  \n",
       "2                                           1  \n",
       "3                                           1  \n",
       "4                                           0  "
      ]
     },
     "execution_count": 11,
     "metadata": {},
     "output_type": "execute_result"
    }
   ],
   "source": [
    "raw_data.head()"
   ]
  },
  {
   "cell_type": "code",
   "execution_count": 14,
   "metadata": {},
   "outputs": [],
   "source": [
    "# description  : "
   ]
  },
  {
   "cell_type": "markdown",
   "metadata": {},
   "source": [
    "<b>Dataset Description</b>\n",
    "\n",
    "<p>Blood transfusion saves lives - from replacing lost blood during major surgery or a serious injury to treating various illnesses and blood disorders. Ensuring that there's enough blood in supply whenever needed is a serious challenge for the health professionals. According to <a href=\"https://www.webmd.com/a-to-z-guides/blood-transfusion-what-to-know#1\">WebMD</a>, \"about 5 million Americans need a blood transfusion every year\".</p>\n",
    "\n",
    "<p>Our dataset is from a mobile blood donation vehicle in Taiwan. The Blood Transfusion Service Center drives to different universities and collects blood as part of a blood drive. We want to predict whether or not a donor will give blood the next time the vehicle comes to campus.</p>\n",
    "\n",
    "<p>The data is stored in <code>datasets/transfusion.data</code> and it is structured according to RFMTC marketing model (a variation of RFM). We'll explore what that means later in this notebook. First, let's inspect the data.</p>"
   ]
  },
  {
   "cell_type": "markdown",
   "metadata": {},
   "source": [
    "<p>Let's briefly return to our discussion of RFM model. RFM stands for Recency, Frequency and Monetary Value and it is commonly used in marketing for identifying your best customers. In our case, our customers are blood donors.</p>\n",
    "<p>RFMTC is a variation of the RFM model. Below is a description of what each column means in our dataset:</p>\n",
    "<ul>\n",
    "<li>R (Recency - months since the last donation)</li>\n",
    "<li>F (Frequency - total number of donation)</li>\n",
    "<li>M (Monetary - total blood donated in c.c.)</li>\n",
    "<li>T (Time - months since the first donation)</li>\n",
    "<li>a binary variable representing whether he/she donated blood in March 2007 (1 stands for donating blood; 0 stands for not donating blood)</li>\n",
    "</ul>\n",
    "<p>It looks like every column in our DataFrame has the numeric type, which is exactly what we want when building a machine learning model. Let's verify our hypothesis.</p>"
   ]
  },
  {
   "cell_type": "code",
   "execution_count": 17,
   "metadata": {},
   "outputs": [
    {
     "name": "stdout",
     "output_type": "stream",
     "text": [
      "<class 'pandas.core.frame.DataFrame'>\n",
      "RangeIndex: 748 entries, 0 to 747\n",
      "Data columns (total 5 columns):\n",
      " #   Column                                      Non-Null Count  Dtype\n",
      "---  ------                                      --------------  -----\n",
      " 0   Recency (months)                            748 non-null    int64\n",
      " 1   Frequency (times)                           748 non-null    int64\n",
      " 2   Monetary (c.c. blood)                       748 non-null    int64\n",
      " 3   Time (months)                               748 non-null    int64\n",
      " 4   whether he/she donated blood in March 2007  748 non-null    int64\n",
      "dtypes: int64(5)\n",
      "memory usage: 29.3 KB\n"
     ]
    }
   ],
   "source": [
    "# check data type of data frame \n",
    "raw_data.info()"
   ]
  },
  {
   "cell_type": "code",
   "execution_count": null,
   "metadata": {},
   "outputs": [],
   "source": []
  },
  {
   "cell_type": "markdown",
   "metadata": {},
   "source": [
    "here we can see that our data is alredy in int so we can go to next step buyt still we have to see that any null value available or not "
   ]
  },
  {
   "cell_type": "code",
   "execution_count": 19,
   "metadata": {},
   "outputs": [
    {
     "data": {
      "text/plain": [
       "Recency (months)                              0\n",
       "Frequency (times)                             0\n",
       "Monetary (c.c. blood)                         0\n",
       "Time (months)                                 0\n",
       "whether he/she donated blood in March 2007    0\n",
       "dtype: int64"
      ]
     },
     "execution_count": 19,
     "metadata": {},
     "output_type": "execute_result"
    }
   ],
   "source": [
    "raw_data.isnull().sum()"
   ]
  },
  {
   "cell_type": "markdown",
   "metadata": {},
   "source": [
    "we can see that there are no any null value so we can go to next step"
   ]
  },
  {
   "cell_type": "markdown",
   "metadata": {},
   "source": [
    "# step 3 - split data into independant and dependant varible"
   ]
  },
  {
   "cell_type": "markdown",
   "metadata": {},
   "source": [
    "<b> Split into X and y </b>\n",
    "\n",
    "<p> suppose we have x1 x2 x3 x4 x5 x6 x7 so on and ... we have target valus like y \n",
    "\n",
    "we have to classify or predict that column on basis of x1 to xn value than we can say that \n",
    "\n",
    "y --> dependant\n",
    "\n",
    "X --> independant "
   ]
  },
  {
   "cell_type": "code",
   "execution_count": 20,
   "metadata": {},
   "outputs": [],
   "source": [
    "X = raw_data.drop('whether he/she donated blood in March 2007',axis=1)"
   ]
  },
  {
   "cell_type": "code",
   "execution_count": 21,
   "metadata": {},
   "outputs": [
    {
     "data": {
      "text/html": [
       "<div>\n",
       "<style scoped>\n",
       "    .dataframe tbody tr th:only-of-type {\n",
       "        vertical-align: middle;\n",
       "    }\n",
       "\n",
       "    .dataframe tbody tr th {\n",
       "        vertical-align: top;\n",
       "    }\n",
       "\n",
       "    .dataframe thead th {\n",
       "        text-align: right;\n",
       "    }\n",
       "</style>\n",
       "<table border=\"1\" class=\"dataframe\">\n",
       "  <thead>\n",
       "    <tr style=\"text-align: right;\">\n",
       "      <th></th>\n",
       "      <th>Recency (months)</th>\n",
       "      <th>Frequency (times)</th>\n",
       "      <th>Monetary (c.c. blood)</th>\n",
       "      <th>Time (months)</th>\n",
       "    </tr>\n",
       "  </thead>\n",
       "  <tbody>\n",
       "    <tr>\n",
       "      <th>0</th>\n",
       "      <td>2</td>\n",
       "      <td>50</td>\n",
       "      <td>12500</td>\n",
       "      <td>98</td>\n",
       "    </tr>\n",
       "    <tr>\n",
       "      <th>1</th>\n",
       "      <td>0</td>\n",
       "      <td>13</td>\n",
       "      <td>3250</td>\n",
       "      <td>28</td>\n",
       "    </tr>\n",
       "  </tbody>\n",
       "</table>\n",
       "</div>"
      ],
      "text/plain": [
       "   Recency (months)  Frequency (times)  Monetary (c.c. blood)  Time (months)\n",
       "0                 2                 50                  12500             98\n",
       "1                 0                 13                   3250             28"
      ]
     },
     "execution_count": 21,
     "metadata": {},
     "output_type": "execute_result"
    }
   ],
   "source": [
    "X.head(2)"
   ]
  },
  {
   "cell_type": "code",
   "execution_count": 22,
   "metadata": {},
   "outputs": [],
   "source": [
    "# here is our X means independant variable "
   ]
  },
  {
   "cell_type": "code",
   "execution_count": 23,
   "metadata": {},
   "outputs": [],
   "source": [
    "y = raw_data['whether he/she donated blood in March 2007']"
   ]
  },
  {
   "cell_type": "code",
   "execution_count": 28,
   "metadata": {},
   "outputs": [
    {
     "data": {
      "text/plain": [
       "0    1\n",
       "1    1\n",
       "Name: whether he/she donated blood in March 2007, dtype: int64"
      ]
     },
     "execution_count": 28,
     "metadata": {},
     "output_type": "execute_result"
    }
   ],
   "source": [
    "y.head(2)"
   ]
  },
  {
   "cell_type": "markdown",
   "metadata": {},
   "source": [
    "<b>Checking whether he/she donated blood in March 2007 column</b>\n",
    "\n",
    "<p>We want to predict whether or not the same donor will give blood the next time the vehicle comes to campus. The model for this is a binary classifier, meaning that there are only 2 possible outcomes:</p>\n",
    "<ul>\n",
    "<li><code>0</code> - the donor will not give blood</li>\n",
    "<li><code>1</code> - the donor will give blood</li>\n",
    "</ul>\n",
    "<p>Target incidence is defined as the number of cases of each individual target value in a dataset. That is, how many 0s in the target column compared to how many 1s? Target incidence gives us an idea of how balanced (or imbalanced) is our dataset.</p>\n"
   ]
  },
  {
   "cell_type": "code",
   "execution_count": 29,
   "metadata": {},
   "outputs": [
    {
     "data": {
      "text/plain": [
       "0    0.762032\n",
       "1    0.237968\n",
       "Name: whether he/she donated blood in March 2007, dtype: float64"
      ]
     },
     "execution_count": 29,
     "metadata": {},
     "output_type": "execute_result"
    }
   ],
   "source": [
    "raw_data['whether he/she donated blood in March 2007'].value_counts(normalize=True)"
   ]
  },
  {
   "cell_type": "code",
   "execution_count": 30,
   "metadata": {},
   "outputs": [
    {
     "data": {
      "image/png": "[encoded data removed]",
      "text/plain": [
       "<Figure size 1000x800 with 4 Axes>"
      ]
     },
     "metadata": {},
     "output_type": "display_data"
    }
   ],
   "source": [
    "X.hist(figsize=(10, 8), bins=20)\n",
    "plt.tight_layout()\n",
    "plt.show()"
   ]
  },
  {
   "cell_type": "markdown",
   "metadata": {},
   "source": [
    "# step 4 - split data into train and test data "
   ]
  },
  {
   "cell_type": "code",
   "execution_count": 33,
   "metadata": {},
   "outputs": [],
   "source": [
    "X_train, X_test, y_train, y_test = train_test_split(X,y,random_state=54,test_size=0.25)"
   ]
  },
  {
   "cell_type": "code",
   "execution_count": 35,
   "metadata": {},
   "outputs": [
    {
     "data": {
      "text/plain": [
       "((561, 4), (187, 4), (561,), (187,))"
      ]
     },
     "execution_count": 35,
     "metadata": {},
     "output_type": "execute_result"
    }
   ],
   "source": [
    "X_train.shape,X_test.shape,y_train.shape,y_test.shape"
   ]
  },
  {
   "cell_type": "markdown",
   "metadata": {},
   "source": [
    "# Model 1 -- linear regression"
   ]
  },
  {
   "cell_type": "code",
   "execution_count": 36,
   "metadata": {},
   "outputs": [],
   "source": [
    " from sklearn.preprocessing import StandardScaler"
   ]
  },
  {
   "cell_type": "code",
   "execution_count": 37,
   "metadata": {},
   "outputs": [],
   "source": [
    "scaler = StandardScaler()"
   ]
  },
  {
   "cell_type": "code",
   "execution_count": 38,
   "metadata": {},
   "outputs": [],
   "source": [
    "X_train=scaler.fit_transform(X_train)"
   ]
  },
  {
   "cell_type": "code",
   "execution_count": 39,
   "metadata": {},
   "outputs": [
    {
     "data": {
      "text/plain": [
       "array([[ 0.69725275, -0.62235824, -0.62235824, -0.52904249],\n",
       "       [ 0.2852175 ,  0.0776778 ,  0.0776778 ,  1.52063181],\n",
       "       [-0.95088822, -0.27234022, -0.27234022, -0.32407506],\n",
       "       ...,\n",
       "       [-0.95088822,  0.0776778 ,  0.0776778 , -0.73400992],\n",
       "       [ 0.69725275, -0.62235824, -0.62235824, -0.73400992],\n",
       "       [-0.67619806,  0.60270482,  0.60270482,  0.49579466]])"
      ]
     },
     "execution_count": 39,
     "metadata": {},
     "output_type": "execute_result"
    }
   ],
   "source": [
    "X_train"
   ]
  },
  {
   "cell_type": "code",
   "execution_count": 40,
   "metadata": {},
   "outputs": [],
   "source": [
    "X_test=scaler.transform(X_test)"
   ]
  },
  {
   "cell_type": "code",
   "execution_count": 41,
   "metadata": {},
   "outputs": [
    {
     "data": {
      "text/plain": [
       "array([[-6.76198062e-01, -7.97367253e-01, -7.97367253e-01,\n",
       "        -1.22593175e+00],\n",
       "       [-6.76198062e-01,  2.52780393e+00,  2.52780393e+00,\n",
       "         1.43864483e+00],\n",
       "       [-5.38852982e-01,  2.52686805e-01,  2.52686805e-01,\n",
       "        -3.24075063e-01],\n",
       "       [-9.50888224e-01,  9.52722844e-01,  9.52722844e-01,\n",
       "         2.21752107e+00],\n",
       "       [ 9.71942907e-01,  1.12773185e+00,  1.12773185e+00,\n",
       "         6.59768601e-01],\n",
       "       [-9.50888224e-01, -6.22358243e-01, -6.22358243e-01,\n",
       "        -9.38977353e-01],\n",
       "       [ 9.71942907e-01, -9.73312140e-02, -9.73312140e-02,\n",
       "         1.52063181e+00],\n",
       "       [-6.76198062e-01,  9.52722844e-01,  9.52722844e-01,\n",
       "         2.50447547e+00],\n",
       "       [ 6.97252745e-01,  2.17778591e+00,  2.17778591e+00,\n",
       "         1.80758621e+00],\n",
       "       [ 1.93335847e+00, -6.22358243e-01, -6.22358243e-01,\n",
       "        -2.42088091e-01],\n",
       "       [ 6.97252745e-01,  2.52686805e-01,  2.52686805e-01,\n",
       "         4.54801171e-01],\n",
       "       [ 2.85217503e-01,  1.82776789e+00,  1.82776789e+00,\n",
       "         2.25851455e+00],\n",
       "       [ 2.85217503e-01, -6.22358243e-01, -6.22358243e-01,\n",
       "        -3.24075063e-01],\n",
       "       [ 1.93335847e+00, -9.73312140e-02, -9.73312140e-02,\n",
       "         9.87716489e-01],\n",
       "       [ 6.97252745e-01, -9.73312140e-02, -9.73312140e-02,\n",
       "        -2.42088091e-01],\n",
       "       [ 2.85217503e-01, -9.73312140e-02, -9.73312140e-02,\n",
       "         6.59768601e-01],\n",
       "       [-9.50888224e-01, -7.97367253e-01, -7.97367253e-01,\n",
       "        -1.30791873e+00],\n",
       "       [-9.50888224e-01,  7.76777958e-02,  7.76777958e-02,\n",
       "        -7.75003409e-01],\n",
       "       [ 9.71942907e-01,  7.76777958e-02,  7.76777958e-02,\n",
       "         4.48663109e-02],\n",
       "       [-9.50888224e-01,  6.20299314e+00,  6.20299314e+00,\n",
       "         2.62745593e+00],\n",
       "       [ 2.85217503e-01, -4.47349233e-01, -4.47349233e-01,\n",
       "        -3.24075063e-01],\n",
       "       [ 2.85217503e-01,  9.52722844e-01,  9.52722844e-01,\n",
       "         1.67846769e-01],\n",
       "       [-6.76198062e-01, -9.73312140e-02, -9.73312140e-02,\n",
       "        -4.47055521e-01],\n",
       "       [-9.50888224e-01, -6.22358243e-01, -6.22358243e-01,\n",
       "        -1.22593175e+00],\n",
       "       [-6.76198062e-01,  7.76777958e-02,  7.76777958e-02,\n",
       "        -8.15996895e-01],\n",
       "       [ 6.97252745e-01, -2.72340224e-01, -2.72340224e-01,\n",
       "         1.67846769e-01],\n",
       "       [ 1.93335847e+00, -6.22358243e-01, -6.22358243e-01,\n",
       "        -4.47055521e-01],\n",
       "       [ 1.05273413e-02, -6.22358243e-01, -6.22358243e-01,\n",
       "        -7.34009923e-01],\n",
       "       [ 1.93335847e+00, -7.97367253e-01, -7.97367253e-01,\n",
       "        -4.47055521e-01],\n",
       "       [ 1.65866831e+00, -4.47349233e-01, -4.47349233e-01,\n",
       "        -3.24075063e-01],\n",
       "       [-9.50888224e-01, -7.97367253e-01, -7.97367253e-01,\n",
       "        -1.30791873e+00],\n",
       "       [ 2.85217503e-01, -7.97367253e-01, -7.97367253e-01,\n",
       "        -9.38977353e-01],\n",
       "       [-9.50888224e-01,  2.52686805e-01,  2.52686805e-01,\n",
       "         4.95794657e-01],\n",
       "       [ 6.97252745e-01, -2.72340224e-01, -2.72340224e-01,\n",
       "        -4.47055521e-01],\n",
       "       [-9.50888224e-01,  2.52686805e-01,  2.52686805e-01,\n",
       "         9.87716489e-01],\n",
       "       [-9.50888224e-01, -7.97367253e-01, -7.97367253e-01,\n",
       "        -1.30791873e+00],\n",
       "       [-9.50888224e-01, -7.97367253e-01, -7.97367253e-01,\n",
       "        -1.30791873e+00],\n",
       "       [ 9.71942907e-01, -7.97367253e-01, -7.97367253e-01,\n",
       "        -7.34009923e-01],\n",
       "       [ 9.71942907e-01,  2.52686805e-01,  2.52686805e-01,\n",
       "         1.67846769e-01],\n",
       "       [-9.50888224e-01, -6.22358243e-01, -6.22358243e-01,\n",
       "         2.90827227e-01],\n",
       "       [-6.76198062e-01,  7.76777958e-02,  7.76777958e-02,\n",
       "        -8.15996895e-01],\n",
       "       [-6.76198062e-01,  2.52686805e-01,  2.52686805e-01,\n",
       "         9.87716489e-01],\n",
       "       [-6.76198062e-01, -2.72340224e-01, -2.72340224e-01,\n",
       "         3.72814199e-01],\n",
       "       [-6.76198062e-01,  2.52686805e-01,  2.52686805e-01,\n",
       "         9.87716489e-01],\n",
       "       [ 2.85217503e-01, -6.22358243e-01, -6.22358243e-01,\n",
       "        -7.34009923e-01],\n",
       "       [-9.50888224e-01, -7.97367253e-01, -7.97367253e-01,\n",
       "        -1.30791873e+00],\n",
       "       [ 6.97252745e-01, -2.72340224e-01, -2.72340224e-01,\n",
       "         1.23367740e+00],\n",
       "       [ 1.93335847e+00,  4.27695815e-01,  4.27695815e-01,\n",
       "         1.43864483e+00],\n",
       "       [ 1.93335847e+00,  1.65275888e+00,  1.65275888e+00,\n",
       "         9.46723003e-01],\n",
       "       [ 1.65866831e+00, -7.97367253e-01, -7.97367253e-01,\n",
       "        -5.29042493e-01],\n",
       "       [-9.50888224e-01, -7.97367253e-01, -7.97367253e-01,\n",
       "        -1.30791873e+00],\n",
       "       [ 1.93335847e+00, -4.47349233e-01, -4.47349233e-01,\n",
       "         1.15169043e+00],\n",
       "       [ 2.85217503e-01, -9.73312140e-02, -9.73312140e-02,\n",
       "         1.67846769e-01],\n",
       "       [-6.76198062e-01, -6.22358243e-01, -6.22358243e-01,\n",
       "        -1.22593175e+00],\n",
       "       [ 9.71942907e-01, -7.97367253e-01, -7.97367253e-01,\n",
       "        -7.34009923e-01],\n",
       "       [ 1.93335847e+00, -7.97367253e-01, -7.97367253e-01,\n",
       "        -4.47055521e-01],\n",
       "       [ 1.65866831e+00, -7.97367253e-01, -7.97367253e-01,\n",
       "        -5.29042493e-01],\n",
       "       [ 2.85217503e-01,  7.76777958e-02,  7.76777958e-02,\n",
       "         9.87716489e-01],\n",
       "       [ 2.85217503e-01,  2.52686805e-01,  2.52686805e-01,\n",
       "        -2.01094605e-01],\n",
       "       [-6.76198062e-01,  4.27695815e-01,  4.27695815e-01,\n",
       "         5.77781629e-01],\n",
       "       [ 9.71942907e-01, -2.72340224e-01, -2.72340224e-01,\n",
       "        -2.42088091e-01],\n",
       "       [ 1.93335847e+00, -7.97367253e-01, -7.97367253e-01,\n",
       "        -4.47055521e-01],\n",
       "       [ 2.85217503e-01, -4.47349233e-01, -4.47349233e-01,\n",
       "        -8.15996895e-01],\n",
       "       [ 9.71942907e-01, -7.97367253e-01, -7.97367253e-01,\n",
       "        -7.34009923e-01],\n",
       "       [ 1.93335847e+00, -7.97367253e-01, -7.97367253e-01,\n",
       "        -4.47055521e-01],\n",
       "       [-6.76198062e-01, -6.22358243e-01, -6.22358243e-01,\n",
       "        -1.02096432e+00],\n",
       "       [-9.50888224e-01,  7.76777958e-02,  7.76777958e-02,\n",
       "         5.36788143e-01],\n",
       "       [-1.26817739e-01,  6.02704825e-01,  6.02704825e-01,\n",
       "         1.23367740e+00],\n",
       "       [ 6.97252745e-01, -4.47349233e-01, -4.47349233e-01,\n",
       "        -1.19107633e-01],\n",
       "       [-6.76198062e-01, -6.22358243e-01, -6.22358243e-01,\n",
       "        -1.22593175e+00],\n",
       "       [ 6.97252745e-01,  1.30274086e+00,  1.30274086e+00,\n",
       "         9.46723003e-01],\n",
       "       [ 1.05273413e-02,  9.52722844e-01,  9.52722844e-01,\n",
       "         6.18775115e-01],\n",
       "       [ 2.85217503e-01,  2.87782195e+00,  2.87782195e+00,\n",
       "         2.62745593e+00],\n",
       "       [ 2.85217503e-01, -2.72340224e-01, -2.72340224e-01,\n",
       "        -2.42088091e-01],\n",
       "       [-6.76198062e-01, -6.22358243e-01, -6.22358243e-01,\n",
       "        -1.22593175e+00],\n",
       "       [ 1.65866831e+00, -7.97367253e-01, -7.97367253e-01,\n",
       "        -5.29042493e-01],\n",
       "       [-6.76198062e-01,  7.76777958e-02,  7.76777958e-02,\n",
       "         2.90827227e-01],\n",
       "       [ 1.65866831e+00, -6.22358243e-01, -6.22358243e-01,\n",
       "        -4.47055521e-01],\n",
       "       [ 2.85217503e-01, -4.47349233e-01, -4.47349233e-01,\n",
       "         2.49833741e-01],\n",
       "       [ 2.85217503e-01,  6.02704825e-01,  6.02704825e-01,\n",
       "        -3.71206611e-02],\n",
       "       [ 2.85217503e-01, -6.22358243e-01, -6.22358243e-01,\n",
       "        -9.38977353e-01],\n",
       "       [ 1.65866831e+00, -7.97367253e-01, -7.97367253e-01,\n",
       "        -5.29042493e-01],\n",
       "       [ 9.71942907e-01, -2.72340224e-01, -2.72340224e-01,\n",
       "         9.87716489e-01],\n",
       "       [ 2.85217503e-01, -6.22358243e-01, -6.22358243e-01,\n",
       "        -4.06062035e-01],\n",
       "       [ 1.10928799e+00,  2.52686805e-01,  2.52686805e-01,\n",
       "         9.87716489e-01],\n",
       "       [-6.76198062e-01, -7.97367253e-01, -7.97367253e-01,\n",
       "        -1.22593175e+00],\n",
       "       [ 2.85217503e-01,  2.52686805e-01,  2.52686805e-01,\n",
       "         1.23367740e+00],\n",
       "       [-9.50888224e-01, -4.47349233e-01, -4.47349233e-01,\n",
       "         1.68460575e+00],\n",
       "       [-9.50888224e-01, -7.97367253e-01, -7.97367253e-01,\n",
       "        -1.30791873e+00],\n",
       "       [ 9.71942907e-01, -6.22358243e-01, -6.22358243e-01,\n",
       "        -7.34009923e-01],\n",
       "       [ 6.97252745e-01,  4.27695815e-01,  4.27695815e-01,\n",
       "         6.59768601e-01],\n",
       "       [ 6.97252745e-01, -6.22358243e-01, -6.22358243e-01,\n",
       "        -8.15996895e-01],\n",
       "       [-8.13543143e-01, -9.73312140e-02, -9.73312140e-02,\n",
       "         1.67846769e-01],\n",
       "       [ 5.59907664e-01, -4.47349233e-01, -4.47349233e-01,\n",
       "        -7.34009923e-01],\n",
       "       [ 2.85217503e-01,  7.76777958e-02,  7.76777958e-02,\n",
       "         2.90827227e-01],\n",
       "       [-6.76198062e-01, -7.97367253e-01, -7.97367253e-01,\n",
       "        -1.22593175e+00],\n",
       "       [ 1.93335847e+00, -7.97367253e-01, -7.97367253e-01,\n",
       "        -4.47055521e-01],\n",
       "       [-9.50888224e-01,  4.27695815e-01,  4.27695815e-01,\n",
       "         4.48663109e-02],\n",
       "       [ 2.85217503e-01,  6.02704825e-01,  6.02704825e-01,\n",
       "         1.56162529e+00],\n",
       "       [-9.50888224e-01,  7.76777958e-02,  7.76777958e-02,\n",
       "        -4.88049007e-01],\n",
       "       [-6.76198062e-01,  2.52686805e-01,  2.52686805e-01,\n",
       "         7.41755573e-01],\n",
       "       [ 1.65866831e+00, -7.97367253e-01, -7.97367253e-01,\n",
       "        -5.29042493e-01],\n",
       "       [ 6.97252745e-01, -7.97367253e-01, -7.97367253e-01,\n",
       "        -8.15996895e-01],\n",
       "       [-9.50888224e-01,  1.82776789e+00,  1.82776789e+00,\n",
       "         1.23367740e+00],\n",
       "       [ 4.13087976e+00, -7.97367253e-01, -7.97367253e-01,\n",
       "         2.08840255e-01],\n",
       "       [ 2.85217503e-01, -4.47349233e-01, -4.47349233e-01,\n",
       "        -2.42088091e-01],\n",
       "       [ 2.85217503e-01,  7.77713835e-01,  7.77713835e-01,\n",
       "         4.48663109e-02],\n",
       "       [-9.50888224e-01, -6.22358243e-01, -6.22358243e-01,\n",
       "        -9.38977353e-01],\n",
       "       [ 3.99353468e+00, -7.97367253e-01, -7.97367253e-01,\n",
       "         1.67846769e-01],\n",
       "       [-9.50888224e-01,  9.52722844e-01,  9.52722844e-01,\n",
       "         2.49833741e-01],\n",
       "       [ 1.65866831e+00, -7.97367253e-01, -7.97367253e-01,\n",
       "        -5.29042493e-01],\n",
       "       [-9.50888224e-01,  7.77713835e-01,  7.77713835e-01,\n",
       "         7.41755573e-01],\n",
       "       [ 6.97252745e-01, -6.22358243e-01, -6.22358243e-01,\n",
       "        -2.01094605e-01],\n",
       "       [ 4.22562584e-01,  9.52722844e-01,  9.52722844e-01,\n",
       "         2.08840255e-01],\n",
       "       [-9.50888224e-01,  2.52686805e-01,  2.52686805e-01,\n",
       "         1.76659272e+00],\n",
       "       [ 6.97252745e-01,  2.52686805e-01,  2.52686805e-01,\n",
       "         4.48663109e-02],\n",
       "       [-9.50888224e-01, -9.73312140e-02, -9.73312140e-02,\n",
       "         5.36788143e-01],\n",
       "       [ 9.71942907e-01, -4.47349233e-01, -4.47349233e-01,\n",
       "         2.49833741e-01],\n",
       "       [ 2.85217503e-01, -4.47349233e-01, -4.47349233e-01,\n",
       "        -4.47055521e-01],\n",
       "       [-6.76198062e-01, -7.97367253e-01, -7.97367253e-01,\n",
       "        -1.22593175e+00],\n",
       "       [ 6.97252745e-01, -7.97367253e-01, -7.97367253e-01,\n",
       "        -8.15996895e-01],\n",
       "       [-9.50888224e-01,  7.76777958e-02,  7.76777958e-02,\n",
       "        -2.42088091e-01],\n",
       "       [ 6.97252745e-01, -2.72340224e-01, -2.72340224e-01,\n",
       "        -2.42088091e-01],\n",
       "       [ 1.65866831e+00, -4.47349233e-01, -4.47349233e-01,\n",
       "         4.48663109e-02],\n",
       "       [-6.76198062e-01, -7.97367253e-01, -7.97367253e-01,\n",
       "        -1.22593175e+00],\n",
       "       [-9.50888224e-01,  2.52686805e-01,  2.52686805e-01,\n",
       "        -7.81141471e-02],\n",
       "       [ 6.97252745e-01, -7.97367253e-01, -7.97367253e-01,\n",
       "        -8.15996895e-01],\n",
       "       [-9.50888224e-01,  7.77713835e-01,  7.77713835e-01,\n",
       "        -2.42088091e-01],\n",
       "       [-6.76198062e-01, -7.97367253e-01, -7.97367253e-01,\n",
       "        -1.22593175e+00],\n",
       "       [-6.76198062e-01, -9.73312140e-02, -9.73312140e-02,\n",
       "         9.87716489e-01],\n",
       "       [-6.76198062e-01, -9.73312140e-02, -9.73312140e-02,\n",
       "         9.87716489e-01],\n",
       "       [-9.50888224e-01, -4.47349233e-01, -4.47349233e-01,\n",
       "        -8.15996895e-01],\n",
       "       [ 9.71942907e-01,  7.77713835e-01,  7.77713835e-01,\n",
       "         2.25851455e+00],\n",
       "       [ 9.71942907e-01, -4.47349233e-01, -4.47349233e-01,\n",
       "        -5.29042493e-01],\n",
       "       [ 2.85217503e-01, -4.47349233e-01, -4.47349233e-01,\n",
       "         1.72559924e+00],\n",
       "       [ 1.65866831e+00, -6.22358243e-01, -6.22358243e-01,\n",
       "         7.41755573e-01],\n",
       "       [ 2.85217503e-01, -4.47349233e-01, -4.47349233e-01,\n",
       "         1.26853283e-01],\n",
       "       [-6.76198062e-01, -7.97367253e-01, -7.97367253e-01,\n",
       "        -1.22593175e+00],\n",
       "       [ 9.71942907e-01,  7.76777958e-02,  7.76777958e-02,\n",
       "         2.49833741e-01],\n",
       "       [ 1.93335847e+00, -2.72340224e-01, -2.72340224e-01,\n",
       "         7.82749059e-01],\n",
       "       [-6.76198062e-01, -6.22358243e-01, -6.22358243e-01,\n",
       "        -1.22593175e+00],\n",
       "       [-6.76198062e-01,  1.82776789e+00,  1.82776789e+00,\n",
       "         2.62745593e+00],\n",
       "       [-6.76198062e-01, -6.22358243e-01, -6.22358243e-01,\n",
       "        -8.56990381e-01],\n",
       "       [ 2.20804863e+00,  7.76777958e-02,  7.76777958e-02,\n",
       "         6.59768601e-01],\n",
       "       [-9.50888224e-01,  2.52686805e-01,  2.52686805e-01,\n",
       "        -8.15996895e-01],\n",
       "       [ 6.97252745e-01, -4.47349233e-01, -4.47349233e-01,\n",
       "         2.01255364e+00],\n",
       "       [ 1.93335847e+00, -7.97367253e-01, -7.97367253e-01,\n",
       "        -4.47055521e-01],\n",
       "       [-9.50888224e-01, -9.73312140e-02, -9.73312140e-02,\n",
       "         3.87282488e-03],\n",
       "       [ 9.71942907e-01,  1.82776789e+00,  1.82776789e+00,\n",
       "         1.76659272e+00],\n",
       "       [ 2.85217503e-01,  2.52686805e-01,  2.52686805e-01,\n",
       "         1.68460575e+00],\n",
       "       [ 9.71942907e-01, -7.97367253e-01, -7.97367253e-01,\n",
       "        -7.34009923e-01],\n",
       "       [ 6.97252745e-01, -7.97367253e-01, -7.97367253e-01,\n",
       "        -8.15996895e-01],\n",
       "       [ 6.97252745e-01, -6.22358243e-01, -6.22358243e-01,\n",
       "        -8.15996895e-01],\n",
       "       [-6.76198062e-01,  4.27695815e-01,  4.27695815e-01,\n",
       "        -2.42088091e-01],\n",
       "       [ 1.65866831e+00, -4.47349233e-01, -4.47349233e-01,\n",
       "         2.49833741e-01],\n",
       "       [-6.76198062e-01, -7.97367253e-01, -7.97367253e-01,\n",
       "        -1.22593175e+00],\n",
       "       [ 2.85217503e-01,  7.76777958e-02,  7.76777958e-02,\n",
       "        -2.83081577e-01],\n",
       "       [ 2.85217503e-01,  6.02704825e-01,  6.02704825e-01,\n",
       "         1.67846769e-01],\n",
       "       [-6.76198062e-01, -2.72340224e-01, -2.72340224e-01,\n",
       "         4.95794657e-01],\n",
       "       [-9.50888224e-01,  4.27695815e-01,  4.27695815e-01,\n",
       "        -2.42088091e-01],\n",
       "       [-9.50888224e-01,  7.77807422e+00,  7.77807422e+00,\n",
       "         2.62745593e+00],\n",
       "       [ 6.97252745e-01, -4.47349233e-01, -4.47349233e-01,\n",
       "         7.41755573e-01],\n",
       "       [-6.76198062e-01,  6.02704825e-01,  6.02704825e-01,\n",
       "         8.64736031e-01],\n",
       "       [ 9.71942907e-01, -4.47349233e-01, -4.47349233e-01,\n",
       "        -5.29042493e-01],\n",
       "       [-6.76198062e-01,  7.76777958e-02,  7.76777958e-02,\n",
       "         4.48663109e-02],\n",
       "       [-6.76198062e-01,  4.80292106e+00,  4.80292106e+00,\n",
       "         2.62745593e+00],\n",
       "       [ 1.65866831e+00, -7.97367253e-01, -7.97367253e-01,\n",
       "        -5.29042493e-01],\n",
       "       [ 1.65866831e+00, -9.73312140e-02, -9.73312140e-02,\n",
       "         1.06970346e+00],\n",
       "       [ 6.97252745e-01, -7.97367253e-01, -7.97367253e-01,\n",
       "        -8.15996895e-01],\n",
       "       [-6.76198062e-01,  6.02704825e-01,  6.02704825e-01,\n",
       "         7.41755573e-01],\n",
       "       [-9.50888224e-01, -9.73312140e-02, -9.73312140e-02,\n",
       "        -3.71206611e-02],\n",
       "       [ 1.65866831e+00, -7.97367253e-01, -7.97367253e-01,\n",
       "        -5.29042493e-01],\n",
       "       [ 1.65866831e+00, -7.97367253e-01, -7.97367253e-01,\n",
       "        -5.29042493e-01],\n",
       "       [-8.13543143e-01,  7.76777958e-02,  7.76777958e-02,\n",
       "        -5.29042493e-01],\n",
       "       [-6.76198062e-01,  7.77713835e-01,  7.77713835e-01,\n",
       "        -2.42088091e-01],\n",
       "       [ 2.85217503e-01, -2.72340224e-01, -2.72340224e-01,\n",
       "        -2.83081577e-01],\n",
       "       [-6.76198062e-01, -6.22358243e-01, -6.22358243e-01,\n",
       "        -2.01094605e-01],\n",
       "       [ 5.59907664e-01, -2.72340224e-01, -2.72340224e-01,\n",
       "        -5.29042493e-01],\n",
       "       [ 8.66326743e+00, -7.97367253e-01, -7.97367253e-01,\n",
       "         1.56162529e+00],\n",
       "       [ 6.97252745e-01, -6.22358243e-01, -6.22358243e-01,\n",
       "        -8.15996895e-01],\n",
       "       [ 8.93795759e+00, -7.97367253e-01, -7.97367253e-01,\n",
       "         1.64361226e+00],\n",
       "       [ 6.97252745e-01, -4.47349233e-01, -4.47349233e-01,\n",
       "        -3.71206611e-02],\n",
       "       [-9.50888224e-01, -7.97367253e-01, -7.97367253e-01,\n",
       "        -1.30791873e+00],\n",
       "       [ 9.71942907e-01, -2.72340224e-01, -2.72340224e-01,\n",
       "        -2.42088091e-01],\n",
       "       [-6.76198062e-01,  1.47774987e+00,  1.47774987e+00,\n",
       "         2.13553410e+00],\n",
       "       [-9.50888224e-01, -9.73312140e-02, -9.73312140e-02,\n",
       "        -3.24075063e-01],\n",
       "       [-9.50888224e-01,  7.76777958e-02,  7.76777958e-02,\n",
       "        -7.34009923e-01]])"
      ]
     },
     "execution_count": 41,
     "metadata": {},
     "output_type": "execute_result"
    }
   ],
   "source": [
    "X_test"
   ]
  },
  {
   "cell_type": "code",
   "execution_count": 43,
   "metadata": {},
   "outputs": [],
   "source": [
    "# model \n",
    "from sklearn.linear_model import LinearRegression \n",
    "from sklearn.model_selection import cross_val_score\n"
   ]
  },
  {
   "cell_type": "code",
   "execution_count": 44,
   "metadata": {},
   "outputs": [],
   "source": [
    "regression = LinearRegression()"
   ]
  },
  {
   "cell_type": "code",
   "execution_count": 45,
   "metadata": {},
   "outputs": [
    {
     "data": {
      "text/html": [
       "<style>#sk-container-id-1 {color: black;}#sk-container-id-1 pre{padding: 0;}#sk-container-id-1 div.sk-toggleable {background-color: white;}#sk-container-id-1 label.sk-toggleable__label {cursor: pointer;display: block;width: 100%;margin-bottom: 0;padding: 0.3em;box-sizing: border-box;text-align: center;}#sk-container-id-1 label.sk-toggleable__label-arrow:before {content: \"▸\";float: left;margin-right: 0.25em;color: #696969;}#sk-container-id-1 label.sk-toggleable__label-arrow:hover:before {color: black;}#sk-container-id-1 div.sk-estimator:hover label.sk-toggleable__label-arrow:before {color: black;}#sk-container-id-1 div.sk-toggleable__content {max-height: 0;max-width: 0;overflow: hidden;text-align: left;background-color: #f0f8ff;}#sk-container-id-1 div.sk-toggleable__content pre {margin: 0.2em;color: black;border-radius: 0.25em;background-color: #f0f8ff;}#sk-container-id-1 input.sk-toggleable__control:checked~div.sk-toggleable__content {max-height: 200px;max-width: 100%;overflow: auto;}#sk-container-id-1 input.sk-toggleable__control:checked~label.sk-toggleable__label-arrow:before {content: \"▾\";}#sk-container-id-1 div.sk-estimator input.sk-toggleable__control:checked~label.sk-toggleable__label {background-color: #d4ebff;}#sk-container-id-1 div.sk-label input.sk-toggleable__control:checked~label.sk-toggleable__label {background-color: #d4ebff;}#sk-container-id-1 input.sk-hidden--visually {border: 0;clip: rect(1px 1px 1px 1px);clip: rect(1px, 1px, 1px, 1px);height: 1px;margin: -1px;overflow: hidden;padding: 0;position: absolute;width: 1px;}#sk-container-id-1 div.sk-estimator {font-family: monospace;background-color: #f0f8ff;border: 1px dotted black;border-radius: 0.25em;box-sizing: border-box;margin-bottom: 0.5em;}#sk-container-id-1 div.sk-estimator:hover {background-color: #d4ebff;}#sk-container-id-1 div.sk-parallel-item::after {content: \"\";width: 100%;border-bottom: 1px solid gray;flex-grow: 1;}#sk-container-id-1 div.sk-label:hover label.sk-toggleable__label {background-color: #d4ebff;}#sk-container-id-1 div.sk-serial::before {content: \"\";position: absolute;border-left: 1px solid gray;box-sizing: border-box;top: 0;bottom: 0;left: 50%;z-index: 0;}#sk-container-id-1 div.sk-serial {display: flex;flex-direction: column;align-items: center;background-color: white;padding-right: 0.2em;padding-left: 0.2em;position: relative;}#sk-container-id-1 div.sk-item {position: relative;z-index: 1;}#sk-container-id-1 div.sk-parallel {display: flex;align-items: stretch;justify-content: center;background-color: white;position: relative;}#sk-container-id-1 div.sk-item::before, #sk-container-id-1 div.sk-parallel-item::before {content: \"\";position: absolute;border-left: 1px solid gray;box-sizing: border-box;top: 0;bottom: 0;left: 50%;z-index: -1;}#sk-container-id-1 div.sk-parallel-item {display: flex;flex-direction: column;z-index: 1;position: relative;background-color: white;}#sk-container-id-1 div.sk-parallel-item:first-child::after {align-self: flex-end;width: 50%;}#sk-container-id-1 div.sk-parallel-item:last-child::after {align-self: flex-start;width: 50%;}#sk-container-id-1 div.sk-parallel-item:only-child::after {width: 0;}#sk-container-id-1 div.sk-dashed-wrapped {border: 1px dashed gray;margin: 0 0.4em 0.5em 0.4em;box-sizing: border-box;padding-bottom: 0.4em;background-color: white;}#sk-container-id-1 div.sk-label label {font-family: monospace;font-weight: bold;display: inline-block;line-height: 1.2em;}#sk-container-id-1 div.sk-label-container {text-align: center;}#sk-container-id-1 div.sk-container {/* jupyter's `normalize.less` sets `[hidden] { display: none; }` but bootstrap.min.css set `[hidden] { display: none !important; }` so we also need the `!important` here to be able to override the default hidden behavior on the sphinx rendered scikit-learn.org. See: https://github.com/scikit-learn/scikit-learn/issues/21755 */display: inline-block !important;position: relative;}#sk-container-id-1 div.sk-text-repr-fallback {display: none;}</style><div id=\"sk-container-id-1\" class=\"sk-top-container\"><div class=\"sk-text-repr-fallback\"><pre>LinearRegression()</pre><b>In a Jupyter environment, please rerun this cell to show the HTML representation or trust the notebook. <br />On GitHub, the HTML representation is unable to render, please try loading this page with nbviewer.org.</b></div><div class=\"sk-container\" hidden><div class=\"sk-item\"><div class=\"sk-estimator sk-toggleable\"><input class=\"sk-toggleable__control sk-hidden--visually\" id=\"sk-estimator-id-1\" type=\"checkbox\" checked><label for=\"sk-estimator-id-1\" class=\"sk-toggleable__label sk-toggleable__label-arrow\">LinearRegression</label><div class=\"sk-toggleable__content\"><pre>LinearRegression()</pre></div></div></div></div></div>"
      ],
      "text/plain": [
       "LinearRegression()"
      ]
     },
     "execution_count": 45,
     "metadata": {},
     "output_type": "execute_result"
    }
   ],
   "source": [
    "regression.fit(X_train,y_train)"
   ]
  },
  {
   "cell_type": "code",
   "execution_count": 46,
   "metadata": {},
   "outputs": [],
   "source": [
    "mse = cross_val_score (regression,X_train,y_train,scoring='neg_mean_squared_error',cv=5)"
   ]
  },
  {
   "cell_type": "code",
   "execution_count": 47,
   "metadata": {},
   "outputs": [
    {
     "data": {
      "text/plain": [
       "-0.16336055205345143"
      ]
     },
     "execution_count": 47,
     "metadata": {},
     "output_type": "execute_result"
    }
   ],
   "source": [
    "np.mean(mse)"
   ]
  },
  {
   "cell_type": "code",
   "execution_count": 48,
   "metadata": {},
   "outputs": [],
   "source": [
    "reg_Pred=regression.predict(X_test)"
   ]
  },
  {
   "cell_type": "code",
   "execution_count": 49,
   "metadata": {},
   "outputs": [
    {
     "data": {
      "text/plain": [
       "array([ 0.29759013,  0.52415263,  0.35178935,  0.25364482,  0.26048075,\n",
       "        0.31858622,  0.01023661,  0.20384013,  0.326887  ,  0.01780497,\n",
       "        0.17918193,  0.26829325,  0.16135966, -0.02003682,  0.19376933,\n",
       "        0.14524638,  0.32786357,  0.40232646,  0.16966044,  0.94993388,\n",
       "        0.186262  ,  0.33860575,  0.32523906,  0.34446513,  0.38358866,\n",
       "        0.1315745 ,  0.03684794,  0.22092997,  0.01243388,  0.07346904,\n",
       "        0.32786357,  0.19260966,  0.31101786,  0.18772685,  0.26609599,\n",
       "        0.32786357,  0.32786357,  0.11741435,  0.18284404,  0.20628154,\n",
       "        0.38358866,  0.24339091,  0.22581279,  0.24339091,  0.19846904,\n",
       "        0.32786357,  0.03440654,  0.01243388,  0.22923075,  0.04221904,\n",
       "        0.32786357, -0.08375753,  0.19016825,  0.32200419,  0.11741435,\n",
       "        0.01243388,  0.04221904,  0.13987529,  0.27293193,  0.30540263,\n",
       "        0.14671122,  0.01243388,  0.23118388,  0.11741435,  0.01243388,\n",
       "        0.3034495 ,  0.28257548,  0.22483622,  0.13352763,  0.32200419,\n",
       "        0.28196513,  0.32005107,  0.38352763,  0.20310771,  0.32200419,\n",
       "        0.04221904,  0.28251445,  0.05979716,  0.13352763,  0.30735575,\n",
       "        0.217512  ,  0.04221904,  0.03440654,  0.16868388,  0.09690654,\n",
       "        0.29759013,  0.14207255,  0.10423075,  0.32786357,  0.14182841,\n",
       "        0.18528544,  0.17210185,  0.28037822,  0.20091044,  0.20353495,\n",
       "        0.29759013,  0.01243388,  0.37669169,  0.16135966,  0.37614238,\n",
       "        0.26585185,  0.04221904,  0.14768779,  0.46360575, -0.2278005 ,\n",
       "        0.1784495 ,  0.32493388,  0.31858622, -0.21266378,  0.43333232,\n",
       "        0.04221904,  0.36253154,  0.1159495 ,  0.32298075,  0.19480693,\n",
       "        0.21653544,  0.25797831,  0.076887  ,  0.19749247,  0.29759013,\n",
       "        0.14768779,  0.35368144,  0.16917216,  0.03977763,  0.29759013,\n",
       "        0.36326396,  0.14768779,  0.45237529,  0.29759013,  0.19419657,\n",
       "        0.19419657,  0.33274638,  0.0666331 ,  0.14817607, -0.001238  ,\n",
       "       -0.04908956,  0.1447581 ,  0.29759013,  0.15092265, -0.0258962 ,\n",
       "        0.32200419,  0.31516825,  0.28831279,  0.01200663,  0.43064677,\n",
       "       -0.06080831,  0.01243388,  0.30662333,  0.2565745 ,  0.10081279,\n",
       "        0.11741435,  0.14768779,  0.17210185,  0.38010966,  0.02073466,\n",
       "        0.29759013,  0.25590312,  0.28880107,  0.21458232,  0.4025706 ,\n",
       "        1.17259013,  0.05491435,  0.3034495 ,  0.14817607,  0.30497538,\n",
       "        0.73509013,  0.04221904, -0.00490011,  0.14768779,  0.31467997,\n",
       "        0.31040751,  0.04221904,  0.04221904,  0.36857402,  0.42991435,\n",
       "        0.20676982,  0.22874247,  0.20652568, -0.72340596,  0.17210185,\n",
       "       -0.7536794 ,  0.12620341,  0.32786357,  0.14671122,  0.31060533,\n",
       "        0.33658038,  0.39860813])"
      ]
     },
     "execution_count": 49,
     "metadata": {},
     "output_type": "execute_result"
    }
   ],
   "source": [
    "reg_Pred"
   ]
  },
  {
   "cell_type": "code",
   "execution_count": 50,
   "metadata": {},
   "outputs": [],
   "source": [
    "from sklearn.metrics import r2_score"
   ]
  },
  {
   "cell_type": "code",
   "execution_count": 51,
   "metadata": {},
   "outputs": [],
   "source": [
    "score = r2_score(reg_Pred,y_test)"
   ]
  },
  {
   "cell_type": "code",
   "execution_count": 52,
   "metadata": {},
   "outputs": [
    {
     "data": {
      "text/plain": [
       "-3.243496691761698"
      ]
     },
     "execution_count": 52,
     "metadata": {},
     "output_type": "execute_result"
    }
   ],
   "source": [
    "score"
   ]
  },
  {
   "cell_type": "code",
   "execution_count": null,
   "metadata": {},
   "outputs": [
    {
     "data": {
      "image/png": "[encoded data removed]",
      "text/plain": [
       "<Figure size 1000x600 with 1 Axes>"
      ]
     },
     "metadata": {},
     "output_type": "display_data"
    }
   ],
   "source": [
    "plt.figure(figsize=(10, 6))\n",
    "plt.scatter(X_train[:, 0], y_train, alpha=0.7, label='Feature 1 vs Target')\n",
    "plt.xlabel('Feature 1 (X_train[:, 0])')\n",
    "plt.ylabel('Target (y_train)')\n",
    "plt.title('Scatter Plot of X_train Feature 1 vs y_train')\n",
    "plt.legend()\n",
    "plt.grid(True)\n",
    "plt.show()"
   ]
  },
  {
   "cell_type": "code",
   "execution_count": 55,
   "metadata": {},
   "outputs": [],
   "source": [
    "# from  above graph we can say that our linear model not perform good becaouse it is not in linear nature so we have to switch in to logistic \n"
   ]
  },
  {
   "cell_type": "markdown",
   "metadata": {},
   "source": [
    "# Model - 2 - Logistica regression "
   ]
  },
  {
   "cell_type": "markdown",
   "metadata": {},
   "source": [
    " why we use this model \n",
    "\n",
    "        --> we  only use this model because we can see that our put put in only 1 or 0 it like our main obgective is to classified into 1 or 0 so we have to classified"
   ]
  },
  {
   "cell_type": "code",
   "execution_count": 63,
   "metadata": {},
   "outputs": [
    {
     "data": {
      "text/html": [
       "<style>#sk-container-id-2 {color: black;}#sk-container-id-2 pre{padding: 0;}#sk-container-id-2 div.sk-toggleable {background-color: white;}#sk-container-id-2 label.sk-toggleable__label {cursor: pointer;display: block;width: 100%;margin-bottom: 0;padding: 0.3em;box-sizing: border-box;text-align: center;}#sk-container-id-2 label.sk-toggleable__label-arrow:before {content: \"▸\";float: left;margin-right: 0.25em;color: #696969;}#sk-container-id-2 label.sk-toggleable__label-arrow:hover:before {color: black;}#sk-container-id-2 div.sk-estimator:hover label.sk-toggleable__label-arrow:before {color: black;}#sk-container-id-2 div.sk-toggleable__content {max-height: 0;max-width: 0;overflow: hidden;text-align: left;background-color: #f0f8ff;}#sk-container-id-2 div.sk-toggleable__content pre {margin: 0.2em;color: black;border-radius: 0.25em;background-color: #f0f8ff;}#sk-container-id-2 input.sk-toggleable__control:checked~div.sk-toggleable__content {max-height: 200px;max-width: 100%;overflow: auto;}#sk-container-id-2 input.sk-toggleable__control:checked~label.sk-toggleable__label-arrow:before {content: \"▾\";}#sk-container-id-2 div.sk-estimator input.sk-toggleable__control:checked~label.sk-toggleable__label {background-color: #d4ebff;}#sk-container-id-2 div.sk-label input.sk-toggleable__control:checked~label.sk-toggleable__label {background-color: #d4ebff;}#sk-container-id-2 input.sk-hidden--visually {border: 0;clip: rect(1px 1px 1px 1px);clip: rect(1px, 1px, 1px, 1px);height: 1px;margin: -1px;overflow: hidden;padding: 0;position: absolute;width: 1px;}#sk-container-id-2 div.sk-estimator {font-family: monospace;background-color: #f0f8ff;border: 1px dotted black;border-radius: 0.25em;box-sizing: border-box;margin-bottom: 0.5em;}#sk-container-id-2 div.sk-estimator:hover {background-color: #d4ebff;}#sk-container-id-2 div.sk-parallel-item::after {content: \"\";width: 100%;border-bottom: 1px solid gray;flex-grow: 1;}#sk-container-id-2 div.sk-label:hover label.sk-toggleable__label {background-color: #d4ebff;}#sk-container-id-2 div.sk-serial::before {content: \"\";position: absolute;border-left: 1px solid gray;box-sizing: border-box;top: 0;bottom: 0;left: 50%;z-index: 0;}#sk-container-id-2 div.sk-serial {display: flex;flex-direction: column;align-items: center;background-color: white;padding-right: 0.2em;padding-left: 0.2em;position: relative;}#sk-container-id-2 div.sk-item {position: relative;z-index: 1;}#sk-container-id-2 div.sk-parallel {display: flex;align-items: stretch;justify-content: center;background-color: white;position: relative;}#sk-container-id-2 div.sk-item::before, #sk-container-id-2 div.sk-parallel-item::before {content: \"\";position: absolute;border-left: 1px solid gray;box-sizing: border-box;top: 0;bottom: 0;left: 50%;z-index: -1;}#sk-container-id-2 div.sk-parallel-item {display: flex;flex-direction: column;z-index: 1;position: relative;background-color: white;}#sk-container-id-2 div.sk-parallel-item:first-child::after {align-self: flex-end;width: 50%;}#sk-container-id-2 div.sk-parallel-item:last-child::after {align-self: flex-start;width: 50%;}#sk-container-id-2 div.sk-parallel-item:only-child::after {width: 0;}#sk-container-id-2 div.sk-dashed-wrapped {border: 1px dashed gray;margin: 0 0.4em 0.5em 0.4em;box-sizing: border-box;padding-bottom: 0.4em;background-color: white;}#sk-container-id-2 div.sk-label label {font-family: monospace;font-weight: bold;display: inline-block;line-height: 1.2em;}#sk-container-id-2 div.sk-label-container {text-align: center;}#sk-container-id-2 div.sk-container {/* jupyter's `normalize.less` sets `[hidden] { display: none; }` but bootstrap.min.css set `[hidden] { display: none !important; }` so we also need the `!important` here to be able to override the default hidden behavior on the sphinx rendered scikit-learn.org. See: https://github.com/scikit-learn/scikit-learn/issues/21755 */display: inline-block !important;position: relative;}#sk-container-id-2 div.sk-text-repr-fallback {display: none;}</style><div id=\"sk-container-id-2\" class=\"sk-top-container\"><div class=\"sk-text-repr-fallback\"><pre>LogisticRegression()</pre><b>In a Jupyter environment, please rerun this cell to show the HTML representation or trust the notebook. <br />On GitHub, the HTML representation is unable to render, please try loading this page with nbviewer.org.</b></div><div class=\"sk-container\" hidden><div class=\"sk-item\"><div class=\"sk-estimator sk-toggleable\"><input class=\"sk-toggleable__control sk-hidden--visually\" id=\"sk-estimator-id-2\" type=\"checkbox\" checked><label for=\"sk-estimator-id-2\" class=\"sk-toggleable__label sk-toggleable__label-arrow\">LogisticRegression</label><div class=\"sk-toggleable__content\"><pre>LogisticRegression()</pre></div></div></div></div></div>"
      ],
      "text/plain": [
       "LogisticRegression()"
      ]
     },
     "execution_count": 63,
     "metadata": {},
     "output_type": "execute_result"
    }
   ],
   "source": [
    "from sklearn.linear_model import LogisticRegression\n",
    "lr = LogisticRegression()\n",
    "lr.fit(X_train,y_train)"
   ]
  },
  {
   "cell_type": "code",
   "execution_count": 64,
   "metadata": {},
   "outputs": [],
   "source": [
    "pred = lr.predict(X_test)"
   ]
  },
  {
   "cell_type": "code",
   "execution_count": 65,
   "metadata": {},
   "outputs": [
    {
     "data": {
      "text/plain": [
       "0.8021390374331551"
      ]
     },
     "execution_count": 65,
     "metadata": {},
     "output_type": "execute_result"
    }
   ],
   "source": [
    "from sklearn.metrics import accuracy_score\n",
    "\n",
    "accuracy_score(y_test,pred)"
   ]
  },
  {
   "cell_type": "code",
   "execution_count": 67,
   "metadata": {},
   "outputs": [
    {
     "data": {
      "text/plain": [
       "0.7611408199643493"
      ]
     },
     "execution_count": 67,
     "metadata": {},
     "output_type": "execute_result"
    }
   ],
   "source": [
    "lr.score(X_train, y_train)"
   ]
  },
  {
   "cell_type": "code",
   "execution_count": 69,
   "metadata": {},
   "outputs": [
    {
     "data": {
      "image/png": "[encoded data removed]",
      "text/plain": [
       "<Figure size 640x480 with 2 Axes>"
      ]
     },
     "metadata": {},
     "output_type": "display_data"
    }
   ],
   "source": [
    "from sklearn.metrics import ConfusionMatrixDisplay, roc_curve, auc\n",
    "\n",
    "# Plot confusion matrix\n",
    "ConfusionMatrixDisplay.from_estimator(lr, X_test, y_test)\n",
    "plt.title(\"Confusion Matrix\")\n",
    "plt.show()\n",
    "\n"
   ]
  },
  {
   "cell_type": "code",
   "execution_count": 72,
   "metadata": {},
   "outputs": [
    {
     "name": "stdout",
     "output_type": "stream",
     "text": [
      "              precision    recall  f1-score   support\n",
      "\n",
      "           0       1.00      0.80      0.89       182\n",
      "           1       0.12      1.00      0.21         5\n",
      "\n",
      "    accuracy                           0.80       187\n",
      "   macro avg       0.56      0.90      0.55       187\n",
      "weighted avg       0.98      0.80      0.87       187\n",
      "\n"
     ]
    }
   ],
   "source": [
    "from sklearn.metrics import accuracy_score,classification_report\n",
    "print(classification_report (pred,y_test))"
   ]
  },
  {
   "cell_type": "code",
   "execution_count": 74,
   "metadata": {},
   "outputs": [
    {
     "data": {
      "image/png": "[encoded data removed]",
      "text/plain": [
       "<Figure size 800x500 with 1 Axes>"
      ]
     },
     "metadata": {},
     "output_type": "display_data"
    }
   ],
   "source": [
    "# Calculate accuracy for train and test datasets\n",
    "train_accuracy = lr.score(X_train, y_train)\n",
    "test_accuracy = lr.score(X_test, y_test)\n",
    "\n",
    "# Plot the accuracies\n",
    "plt.figure(figsize=(8, 5))\n",
    "plt.bar(['Train Accuracy', 'Test Accuracy'], [train_accuracy, test_accuracy], color=['blue', 'orange'])\n",
    "plt.ylabel('Accuracy')\n",
    "plt.title('Accuracy for Train and Test Datasets')\n",
    "plt.ylim(0, 1)\n",
    "plt.show()"
   ]
  },
  {
   "cell_type": "code",
   "execution_count": 76,
   "metadata": {},
   "outputs": [
    {
     "data": {
      "text/plain": [
       "array([0, 1, 0, 0, 0, 0, 0, 0, 0, 0, 0, 0, 0, 0, 0, 0, 0, 0, 0, 1, 0, 0,\n",
       "       0, 0, 0, 0, 0, 0, 0, 0, 0, 0, 0, 0, 0, 0, 0, 0, 0, 0, 0, 0, 0, 0,\n",
       "       0, 0, 0, 0, 0, 0, 0, 0, 0, 0, 0, 0, 0, 0, 0, 0, 0, 0, 0, 0, 0, 0,\n",
       "       0, 0, 0, 0, 0, 0, 0, 0, 0, 0, 0, 0, 0, 0, 0, 0, 0, 0, 0, 0, 0, 0,\n",
       "       0, 0, 0, 0, 0, 0, 0, 0, 0, 0, 0, 0, 0, 0, 0, 0, 0, 0, 0, 0, 0, 0,\n",
       "       0, 0, 0, 0, 0, 0, 0, 0, 0, 0, 0, 0, 0, 0, 0, 0, 0, 1, 0, 0, 0, 0,\n",
       "       0, 0, 0, 0, 0, 0, 0, 0, 0, 0, 0, 0, 0, 0, 0, 0, 0, 0, 0, 0, 0, 0,\n",
       "       0, 0, 0, 0, 0, 0, 1, 0, 0, 0, 0, 1, 0, 0, 0, 0, 0, 0, 0, 0, 0, 0,\n",
       "       0, 0, 0, 0, 0, 0, 0, 0, 0, 0, 0], dtype=int64)"
      ]
     },
     "execution_count": 76,
     "metadata": {},
     "output_type": "execute_result"
    }
   ],
   "source": [
    "pred"
   ]
  },
  {
   "cell_type": "code",
   "execution_count": null,
   "metadata": {},
   "outputs": [],
   "source": []
  }
 ],
 "metadata": {
  "kernelspec": {
   "display_name": "Python 3",
   "language": "python",
   "name": "python3"
  },
  "language_info": {
   "codemirror_mode": {
    "name": "ipython",
    "version": 3
   },
   "file_extension": ".py",
   "mimetype": "text/x-python",
   "name": "python",
   "nbconvert_exporter": "python",
   "pygments_lexer": "ipython3",
   "version": "3.10.11"
  }
 },
 "nbformat": 4,
 "nbformat_minor": 2
}
